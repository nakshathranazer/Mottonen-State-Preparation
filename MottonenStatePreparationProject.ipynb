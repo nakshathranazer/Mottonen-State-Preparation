{
 "cells": [
  {
   "cell_type": "code",
   "execution_count": 2,
   "id": "d6be19a6-9968-420c-aaa0-135826a4b150",
   "metadata": {},
   "outputs": [
    {
     "name": "stderr",
     "output_type": "stream",
     "text": [
      "<frozen importlib._bootstrap>:219: RuntimeWarning: scipy._lib.messagestream.MessageStream size changed, may indicate binary incompatibility. Expected 56 from C header, got 64 from PyObject\n"
     ]
    }
   ],
   "source": [
    "import numpy as np\n",
    "\n",
    "# Importing standard Qiskit libraries\n",
    "from qiskit import QuantumCircuit, transpile, Aer, IBMQ\n",
    "from qiskit.tools.jupyter import *\n",
    "from qiskit.visualization import *\n",
    "from ibm_quantum_widgets import *\n",
    "from qiskit.providers.aer import QasmSimulator\n",
    "\n",
    "# Loading your IBM Quantum account(s)\n",
    "provider = IBMQ.load_account()"
   ]
  },
  {
   "cell_type": "code",
   "execution_count": 3,
   "id": "3aaadc4f-0c11-4fa6-8b8a-543215d1c43b",
   "metadata": {},
   "outputs": [],
   "source": [
    "#imports\n",
    "import numpy as np\n",
    "from qiskit import QuantumCircuit\n",
    "# from qiskit.providers.aer import QasmSimulator\n",
    "\n",
    "# from qiskit.visualization import plot_histogram, plot_bloch_vector\n",
    "from typing import Tuple, Any\n",
    "import math\n",
    "import cmath\n",
    "     "
   ]
  },
  {
   "cell_type": "code",
   "execution_count": 4,
   "id": "aca81f0f-790c-4d55-a7ca-7fb493145855",
   "metadata": {},
   "outputs": [
    {
     "data": {
      "text/plain": [
       "array(['000', '001', '011', '010', '110', '111', '101', '100'],\n",
       "      dtype='<U3')"
      ]
     },
     "execution_count": 4,
     "metadata": {},
     "output_type": "execute_result"
    }
   ],
   "source": [
    "def get_gray_code(n:int)->np.array:\n",
    "    \n",
    "    gray_list = []\n",
    "  \n",
    "    for i in range(1 << n):\n",
    "        gray_binary = bin(i ^ (i >> 1))[2::]\n",
    "        gray_binary = gray_binary.zfill(n)\n",
    "        gray_list.append(gray_binary)\n",
    "\n",
    "    return np.asarray(gray_list)\n",
    "\n",
    "# unmute for testing \n",
    "get_gray_code(3)\n",
    "\n",
    "    \n",
    "    "
   ]
  },
  {
   "cell_type": "code",
   "execution_count": 5,
   "id": "106107c9-1be7-43db-b2ad-03bc4d5e621e",
   "metadata": {},
   "outputs": [],
   "source": [
    "def get_phases(state: np.array) -> np.array:\n",
    " \n",
    "\n",
    "    omega_phases = np.empty(len(state), dtype=float)\n",
    "\n",
    "    for st in range(len(state)):\n",
    "        omega_phases[st] = cmath.phase(state[st])\n",
    "\n",
    "    return omega_phases\n",
    "  \n",
    "# unmute for testing\n",
    "\n",
    "#get_phases(state)"
   ]
  },
  {
   "cell_type": "code",
   "execution_count": 6,
   "id": "39d0b891-4d68-4400-a937-b97aad624ebe",
   "metadata": {},
   "outputs": [
    {
     "data": {
      "text/plain": [
       "-0.25"
      ]
     },
     "execution_count": 6,
     "metadata": {},
     "output_type": "execute_result"
    }
   ],
   "source": [
    "def g(i) :  # binary grey code return functions\n",
    "    return i ^ (i >> 1)\n",
    "def get_m_matrix_entry(i:int, j:int, k:int)-> int:\n",
    " \n",
    "\n",
    "    bitwise_dot_product = bin(j&g(i)).count('1')\n",
    "    m_ij = (2 ** (-k)) * (-1) ** bitwise_dot_product\n",
    "  \n",
    "    return m_ij\n",
    "\n",
    "# for testing\n",
    "get_m_matrix_entry(2, 2, 2)"
   ]
  },
  {
   "cell_type": "code",
   "execution_count": 7,
   "id": "01a01100-5a45-4797-b14c-c24fffff3d5e",
   "metadata": {},
   "outputs": [],
   "source": [
    "def alpha_y(state:np.array, n:int, k:int) -> float:\n",
    "  \"\"\"\n",
    "  Calculates the agles alpha_i sunbited to the R_y gate.\n",
    "  Args:\n",
    "    state: (array-like), the state of the input vector to be transformed.\n",
    "    n: (int), the number of qubits in circuit.\n",
    "    k: (int), the number of controll nodes.\n",
    "  Returns:\n",
    "    alpha :(float), the value of rotation angle (r_y quatum gate).\n",
    "  \"\"\"\n",
    "  \n",
    "  magnitude = [abs(st) for st in state]\n",
    "  magnitude = np.asarray(magnitude)\n",
    "\n",
    "  denominator = 0\n",
    "  numerator = 0\n",
    "  for j in range(2 ** (n - k)):\n",
    "    # construct denominator \n",
    "    for l in range(2 ** k):\n",
    "      index = (j) * (2 ** k) + l\n",
    "      denominator += (magnitude[index]) ** 2 \n",
    "  \n",
    "    # construct numerator\n",
    "    for l in range(2 ** (k - 1)):\n",
    "      index = (2 * (j+1) - 1) * (2 ** (k - 1)) + l \n",
    "      numerator += (magnitude[index]) ** 2 \n",
    "\n",
    "  return 2 * math.asin(math.sqrt(numerator / denominator))\n",
    "\n",
    "# for testing \n",
    "# state = np.array([2, 2j, 6, 6j]) \n",
    "# alpha_y(state, 2, 2)"
   ]
  },
  {
   "cell_type": "code",
   "execution_count": 51,
   "id": "c0dd78b6-e599-4622-a0d1-04f0ca09bc3f",
   "metadata": {},
   "outputs": [],
   "source": [
    "def alpha_z(omega_phases:np.array, n:int, k:int) -> float:\n",
    "  \"\"\"\n",
    "  Calcualtes angles alpha_i submitted tot he rotation gate R_z.\n",
    "  Args:\n",
    "    omega_phases: (np.array), phases of the input vector.\n",
    "    n: (int), the number of qubits in circuit.\n",
    "    k: (int), the number of the control nodes. \n",
    "  Returns:\n",
    "    alpha_z: (float), the value of rotation angle (r_z quatum gate).\n",
    "  \"\"\"\n",
    "\n",
    "  numerator = 0\n",
    "  for j in range(1, 2 ** (n - k) + 1):\n",
    "    # construct denominator \n",
    "    for l in range(1, 2 ** (k-1) + 1):\n",
    "      expression1 = (2 * (j) - 1) * (2 ** (k - 1)) + l - 1\n",
    "      expression2 = (2 * (j) - 2) * (2 ** (k - 1)) + l - 1\n",
    "      numerator += (omega_phases[expression1] - omega_phases[expression2])\n",
    "\n",
    "  return numerator / 2 ** (k - 1)\n",
    "\n",
    "# for testing\n",
    "# phases = get_phases(state)\n",
    "# alpha_z(phases, 2,1)\n",
    "     "
   ]
  },
  {
   "cell_type": "code",
   "execution_count": 52,
   "id": "4eb0745a-7d69-4302-9b50-5c50a3af74e7",
   "metadata": {},
   "outputs": [],
   "source": [
    "def apply_gate_sequence(q_circuit, gate, angle:np.array, k:int, target:int)->None:\n",
    "  \"\"\"\n",
    "  Applies the sequence of quantum gates based the Gray code representation for \n",
    "  the controll nodes.\n",
    "\n",
    "  Args:\n",
    "    q_circuit: an object of the class 'qiskit.circuit.quantumcircuit.QuantumCircuit. \n",
    "              A gate is to be applied on the q_circuit.\n",
    "    gate: a method of the  class 'qiskit.circuit.quantumcircuit.QuantumCircuit\n",
    "           a qiskit quantum gate object to be applied on the quantum circuit.\n",
    "    angle: (np.array) angle to be transformed using the M_ij matrix.\n",
    "    k: (int), a number of controll qubits.\n",
    "    target: (int), a node of the target qubit.\n",
    "  Returns:\n",
    "    None.\n",
    "  \"\"\"\n",
    "\n",
    "  # compute theta angles as discribed in eq. 3\n",
    "  size = len(angle)\n",
    "  \n",
    "  matrix_M = np.zeros(shape=(size, size))\n",
    "\n",
    "  for i in range(size):\n",
    "    for j in range(size):\n",
    "      matrix_M[i][j] = get_m_matrix_entry(i, j, k)\n",
    "\n",
    "  theta_angles = np.dot(matrix_M, np.transpose(angle))\n",
    "\n",
    "  theta_angles = np.transpose(theta_angles)\n",
    "  \n",
    "  gray_code = get_gray_code(k)\n",
    "  \n",
    "  control_gates = []\n",
    "  for i in range(len(gray_code)):\n",
    "    # representing Gray code binaries as regular binaries through XOR operator\n",
    "    control = int(gray_code[i], 2) ^ int(gray_code[(i+1) % len(gray_code)], 2)\n",
    "    \n",
    "    control = int(np.log2(control))\n",
    "    \n",
    "    control_gates.append(control)\n",
    "  \n",
    "\n",
    "  if len(control_gates) == 2:\n",
    "    q_circuit.cx(0, 1)\n",
    "    if gate == 'ry':\n",
    "        q_circuit.ry(theta_angles[0], 1)\n",
    "    elif gate == 'rz':\n",
    "        q_circuit.rz(theta_angles[0], 1)\n",
    "\n",
    "  for i in range(len(control_gates)-2, 0, -1):\n",
    "    # aply cx gates\n",
    "    j = control_gates[i]\n",
    "    while j != target:\n",
    "      q_circuit.cx(j, j+1)\n",
    "      j += 1\n",
    "\n",
    "    # apply rotation gates\n",
    "    if gate == 'ry':\n",
    "        q_circuit.ry(theta_angles[i], target)\n",
    "    elif gate == 'rz':\n",
    "        q_circuit.rz(theta_angles[i], target)\n",
    "    "
   ]
  },
  {
   "cell_type": "code",
   "execution_count": 53,
   "id": "663f886f-9953-4209-a49a-24f82b1c8c02",
   "metadata": {},
   "outputs": [],
   "source": [
    "def state_prep(input_vector):\n",
    "\n",
    "  # normalize state\n",
    "  state = input_vector / np.linalg.norm(input_vector)\n",
    "  \n",
    "  # get number of qubits for circuit based on the lenght of the state\n",
    "  num_qubits = int(math.log2(len(state)))\n",
    "  \n",
    "  qc = QuantumCircuit(num_qubits)\n",
    "\n",
    "  phases = get_phases(state)\n",
    "  angles_alpha_z = [alpha_z(phases, num_qubits, k) for k in range(1, num_qubits+1)]\n",
    "  angles_alpha_y = [alpha_y(state, num_qubits, k) for k in range(1, num_qubits+1)]\n",
    "\n",
    "  # sequence of control rz gates\n",
    "  for control in range(num_qubits-1,  0, -1):\n",
    "      apply_gate_sequence(qc, 'rz', angles_alpha_z, control, control)\n",
    "  qc.rz(angles_alpha_z[num_qubits-1], num_qubits-1)\n",
    "\n",
    "  # sequence of control ry gates\n",
    "  for control in range(num_qubits-1,  0, -1):\n",
    "      apply_gate_sequence(qc, 'ry', angles_alpha_y, control, control)\n",
    "  qc.ry(angles_alpha_y[num_qubits-1], num_qubits-1)\n",
    "\n",
    "  # inverse the circuit to prepare the second circuit.\n",
    "  qc_inv = qc.inverse()\n",
    "  qc = qc.compose(qc_inv)\n",
    "\n",
    "  return state, qc.draw()\n",
    "     "
   ]
  },
  {
   "cell_type": "code",
   "execution_count": 54,
   "id": "ea406185-1cf8-4eb1-96a3-6d9538e0e2ad",
   "metadata": {},
   "outputs": [
    {
     "name": "stdout",
     "output_type": "stream",
     "text": [
      "Initial state is \n",
      " [(1-3j), (5+10j)]\n",
      "Mottonen state prepared is \n",
      " [0.0860663 -0.25819889j 0.43033148+0.86066297j] .\n",
      "Quantum circuit: \n",
      " Figure(314.126x84.28)\n",
      "=========================\n",
      "Initial state is \n",
      " [(1-2j), (3+1j), 4j, 5]\n",
      "Mottonen state prepared is \n",
      " [0.13363062-0.26726124j 0.40089186+0.13363062j 0.        +0.53452248j\n",
      " 0.6681531 +0.j        ] .\n",
      "Quantum circuit: \n",
      " Figure(808.852x144.48)\n",
      "=========================\n",
      "Initial state is \n",
      " [(1-3j), (5+10j), (1-2j), (3+1j), 7j, 3, (-3-6j), (-10+1j)]\n",
      "Mottonen state prepared is \n",
      " [ 0.0531494-0.1594482j  0.265747 +0.531494j   0.0531494-0.1062988j\n",
      "  0.1594482+0.0531494j  0.       +0.3720458j  0.1594482+0.j\n",
      " -0.1594482-0.3188964j -0.531494 +0.0531494j] .\n",
      "Quantum circuit: \n",
      " Figure(1531.4x204.68)\n",
      "=========================\n"
     ]
    }
   ],
   "source": [
    "input_states =[[1-3j, 5+10j], [1-2j, 3+1j, 4j, 5], [1-3j, 5+10j, 1-2j, 3+1j, 7j, 3, -3-6j, -10+1j]]\n",
    "\n",
    "for state in input_states:\n",
    "  state_prepared, circuit_representation = state_prep(np.asarray(state))\n",
    "  print(\"Initial state is \\n {}\". format(state))\n",
    "  print(\"Mottonen state prepared is \\n {} .\". format(state_prepared))\n",
    "  print(\"Quantum circuit: \\n\", circuit_representation)\n",
    "  print(\"=========================\")"
   ]
  },
  {
   "cell_type": "code",
   "execution_count": null,
   "id": "6744d949-c45e-49b6-b6fc-bffa23c95705",
   "metadata": {},
   "outputs": [],
   "source": []
  }
 ],
 "metadata": {
  "kernelspec": {
   "display_name": "Python 3 (ipykernel)",
   "language": "python",
   "name": "python3"
  },
  "language_info": {
   "codemirror_mode": {
    "name": "ipython",
    "version": 3
   },
   "file_extension": ".py",
   "mimetype": "text/x-python",
   "name": "python",
   "nbconvert_exporter": "python",
   "pygments_lexer": "ipython3",
   "version": "3.8.13"
  },
  "widgets": {
   "application/vnd.jupyter.widget-state+json": {
    "state": {
     "03199077cde24e44b817ad3af7b95121": {
      "model_module": "@jupyter-widgets/controls",
      "model_module_version": "1.5.0",
      "model_name": "DescriptionStyleModel",
      "state": {
       "description_width": ""
      }
     },
     "14c920aa411141959bca931df4179781": {
      "model_module": "@jupyter-widgets/base",
      "model_module_version": "1.2.0",
      "model_name": "LayoutModel",
      "state": {
       "grid_area": "right",
       "padding": "0px 0px 0px 0px",
       "width": "70px"
      }
     },
     "1c0807e21ebd480182141a75a2ccd4bd": {
      "model_module": "@jupyter-widgets/controls",
      "model_module_version": "1.5.0",
      "model_name": "HTMLModel",
      "state": {
       "layout": "IPY_MODEL_d61aa1a9753d46559f18eb1f6e00de5a",
       "style": "IPY_MODEL_cd5ff1e185964a288397e90458e74f79",
       "value": "<h5>Queue</h5>"
      }
     },
     "25062855ceda484d8ea44b6e66b219b4": {
      "model_module": "@jupyter-widgets/controls",
      "model_module_version": "1.5.0",
      "model_name": "ButtonStyleModel",
      "state": {}
     },
     "2de06cc929d04d0db4489e0b41f4f99d": {
      "model_module": "@jupyter-widgets/controls",
      "model_module_version": "1.5.0",
      "model_name": "HTMLModel",
      "state": {
       "layout": "IPY_MODEL_fdad68aff443425ba61b31a1bd6e0041",
       "style": "IPY_MODEL_b5a0fd77d113411aac0f5637a7f73389",
       "value": "<h5>Backend</h5>"
      }
     },
     "34e403772333460e971aa041acdb9eab": {
      "model_module": "@jupyter-widgets/controls",
      "model_module_version": "1.5.0",
      "model_name": "DescriptionStyleModel",
      "state": {
       "description_width": ""
      }
     },
     "39c87cb9bccc4eca90be67e114b59ce4": {
      "model_module": "@jupyter-widgets/controls",
      "model_module_version": "1.5.0",
      "model_name": "DescriptionStyleModel",
      "state": {
       "description_width": ""
      }
     },
     "49f23d8232464b219092d014a036de18": {
      "model_module": "@jupyter-widgets/base",
      "model_module_version": "1.2.0",
      "model_name": "LayoutModel",
      "state": {
       "width": "95px"
      }
     },
     "4bed2a5081274c389ed354b932526068": {
      "model_module": "@jupyter-widgets/base",
      "model_module_version": "1.2.0",
      "model_name": "LayoutModel",
      "state": {}
     },
     "4dcaac8a7d4646079ac78cf08ba0dc21": {
      "model_module": "@jupyter-widgets/controls",
      "model_module_version": "1.5.0",
      "model_name": "DescriptionStyleModel",
      "state": {
       "description_width": ""
      }
     },
     "505b013f45f645949f4a23f5857f8ee4": {
      "model_module": "@jupyter-widgets/controls",
      "model_module_version": "1.5.0",
      "model_name": "HTMLModel",
      "state": {
       "layout": "IPY_MODEL_e8682d0826ec4be2a343111da81f874b",
       "style": "IPY_MODEL_34e403772333460e971aa041acdb9eab",
       "value": "<h5>Job ID</h5>"
      }
     },
     "74af5e4d1c07422db3c540b08232d368": {
      "model_module": "@jupyter-widgets/controls",
      "model_module_version": "1.5.0",
      "model_name": "HBoxModel",
      "state": {
       "children": [
        "IPY_MODEL_505b013f45f645949f4a23f5857f8ee4",
        "IPY_MODEL_2de06cc929d04d0db4489e0b41f4f99d",
        "IPY_MODEL_95a8c25202314f3188cdd776445ae730",
        "IPY_MODEL_1c0807e21ebd480182141a75a2ccd4bd",
        "IPY_MODEL_79b2bcf966ca472a96e6bd4af36771b3"
       ],
       "layout": "IPY_MODEL_db5c2f5602164cc3a9f0cac45c1b6833"
      }
     },
     "75162ee6fed840ac8a7fc8dc6fa7b193": {
      "model_module": "@jupyter-widgets/controls",
      "model_module_version": "1.5.0",
      "model_name": "HTMLModel",
      "state": {
       "layout": "IPY_MODEL_7f3c55abec604f8e814a47cca5846c2c",
       "style": "IPY_MODEL_03199077cde24e44b817ad3af7b95121",
       "value": "<p style='font-family: IBM Plex Sans, Arial, Helvetica, sans-serif; font-size: 20px; font-weight: medium;'>Circuit Properties</p>"
      }
     },
     "79b2bcf966ca472a96e6bd4af36771b3": {
      "model_module": "@jupyter-widgets/controls",
      "model_module_version": "1.5.0",
      "model_name": "HTMLModel",
      "state": {
       "layout": "IPY_MODEL_4bed2a5081274c389ed354b932526068",
       "style": "IPY_MODEL_4dcaac8a7d4646079ac78cf08ba0dc21",
       "value": "<h5>Message</h5>"
      }
     },
     "7aaaaa2d66cb405a93efeb3535b27312": {
      "model_module": "@jupyter-widgets/base",
      "model_module_version": "1.2.0",
      "model_name": "LayoutModel",
      "state": {
       "grid_template_areas": "\n                                       \". . . . right \"\n                                        ",
       "grid_template_columns": "20% 20% 20% 20% 20%",
       "width": "100%"
      }
     },
     "7f3c55abec604f8e814a47cca5846c2c": {
      "model_module": "@jupyter-widgets/base",
      "model_module_version": "1.2.0",
      "model_name": "LayoutModel",
      "state": {
       "margin": "0px 0px 10px 0px"
      }
     },
     "95a8c25202314f3188cdd776445ae730": {
      "model_module": "@jupyter-widgets/controls",
      "model_module_version": "1.5.0",
      "model_name": "HTMLModel",
      "state": {
       "layout": "IPY_MODEL_49f23d8232464b219092d014a036de18",
       "style": "IPY_MODEL_39c87cb9bccc4eca90be67e114b59ce4",
       "value": "<h5>Status</h5>"
      }
     },
     "b0603ad10c7340a4b89d171c2a4888a6": {
      "model_module": "@jupyter-widgets/controls",
      "model_module_version": "1.5.0",
      "model_name": "ButtonModel",
      "state": {
       "button_style": "primary",
       "description": "Clear",
       "layout": "IPY_MODEL_14c920aa411141959bca931df4179781",
       "style": "IPY_MODEL_25062855ceda484d8ea44b6e66b219b4"
      }
     },
     "b5a0fd77d113411aac0f5637a7f73389": {
      "model_module": "@jupyter-widgets/controls",
      "model_module_version": "1.5.0",
      "model_name": "DescriptionStyleModel",
      "state": {
       "description_width": ""
      }
     },
     "c146afc50026461da3d7e84bc5ecf315": {
      "model_module": "@jupyter-widgets/controls",
      "model_module_version": "1.5.0",
      "model_name": "GridBoxModel",
      "state": {
       "children": [
        "IPY_MODEL_b0603ad10c7340a4b89d171c2a4888a6"
       ],
       "layout": "IPY_MODEL_7aaaaa2d66cb405a93efeb3535b27312"
      }
     },
     "cd5ff1e185964a288397e90458e74f79": {
      "model_module": "@jupyter-widgets/controls",
      "model_module_version": "1.5.0",
      "model_name": "DescriptionStyleModel",
      "state": {
       "description_width": ""
      }
     },
     "d61aa1a9753d46559f18eb1f6e00de5a": {
      "model_module": "@jupyter-widgets/base",
      "model_module_version": "1.2.0",
      "model_name": "LayoutModel",
      "state": {
       "width": "70px"
      }
     },
     "db5c2f5602164cc3a9f0cac45c1b6833": {
      "model_module": "@jupyter-widgets/base",
      "model_module_version": "1.2.0",
      "model_name": "LayoutModel",
      "state": {
       "margin": "0px 0px 0px 37px",
       "width": "600px"
      }
     },
     "e8682d0826ec4be2a343111da81f874b": {
      "model_module": "@jupyter-widgets/base",
      "model_module_version": "1.2.0",
      "model_name": "LayoutModel",
      "state": {
       "width": "190px"
      }
     },
     "fdad68aff443425ba61b31a1bd6e0041": {
      "model_module": "@jupyter-widgets/base",
      "model_module_version": "1.2.0",
      "model_name": "LayoutModel",
      "state": {
       "width": "145px"
      }
     }
    },
    "version_major": 2,
    "version_minor": 0
   }
  }
 },
 "nbformat": 4,
 "nbformat_minor": 5
}
